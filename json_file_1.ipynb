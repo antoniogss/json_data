{
  "nbformat": 4,
  "nbformat_minor": 0,
  "metadata": {
    "colab": {
      "provenance": [],
      "authorship_tag": "ABX9TyPkbBqBX14T6imxq5rzmFcS",
      "include_colab_link": true
    },
    "kernelspec": {
      "name": "python3",
      "display_name": "Python 3"
    },
    "language_info": {
      "name": "python"
    }
  },
  "cells": [
    {
      "cell_type": "markdown",
      "metadata": {
        "id": "view-in-github",
        "colab_type": "text"
      },
      "source": [
        "<a href=\"https://colab.research.google.com/github/antoniogss/json_data/blob/main/json_file_1.ipynb\" target=\"_parent\"><img src=\"https://colab.research.google.com/assets/colab-badge.svg\" alt=\"Open In Colab\"/></a>"
      ]
    },
    {
      "cell_type": "code",
      "execution_count": 1,
      "metadata": {
        "id": "l4OcsF0v4_Wo"
      },
      "outputs": [],
      "source": [
        "import json #JavaScript Object Notation\n",
        "import requests as rq"
      ]
    },
    {
      "cell_type": "code",
      "source": [
        "url = ('https://raw.githubusercontent.com/CoreyMSchafer/'+\n",
        "      'code_snippets/master/Python-JSON/states.json')\n",
        "\n",
        "data = rq.get(url).json()"
      ],
      "metadata": {
        "id": "ixAFwWT-A8Zs"
      },
      "execution_count": 2,
      "outputs": []
    },
    {
      "cell_type": "code",
      "source": [
        "type(data)"
      ],
      "metadata": {
        "id": "xToP3ZRKk4xy",
        "outputId": "ee3de025-aa8b-4784-803c-bf2488543e32",
        "colab": {
          "base_uri": "https://localhost:8080/"
        }
      },
      "execution_count": 3,
      "outputs": [
        {
          "output_type": "execute_result",
          "data": {
            "text/plain": [
              "dict"
            ]
          },
          "metadata": {},
          "execution_count": 3
        }
      ]
    },
    {
      "cell_type": "code",
      "source": [
        "# for k,v in data.items():\n",
        "#   print(json.dumps(data, indent=4)) #dumps: string"
      ],
      "metadata": {
        "id": "LSNK-HchCktH"
      },
      "execution_count": 4,
      "outputs": []
    },
    {
      "cell_type": "code",
      "source": [
        "for state in data['states']:\n",
        "  print(state['name'],'-',state['abbreviation'])"
      ],
      "metadata": {
        "colab": {
          "base_uri": "https://localhost:8080/"
        },
        "id": "NXD6syKOB3_Q",
        "outputId": "568ebcbf-a990-4fef-d153-4ae55f58df32"
      },
      "execution_count": 5,
      "outputs": [
        {
          "output_type": "stream",
          "name": "stdout",
          "text": [
            "Alabama - AL\n",
            "Alaska - AK\n",
            "Arizona - AZ\n",
            "Arkansas - AR\n",
            "California - CA\n",
            "Colorado - CO\n",
            "Connecticut - CT\n",
            "Delaware - DE\n",
            "Florida - FL\n",
            "Georgia - GA\n",
            "Hawaii - HI\n",
            "Idaho - ID\n",
            "Illinois - IL\n",
            "Indiana - IN\n",
            "Iowa - IA\n",
            "Kansas - KS\n",
            "Kentucky - KY\n",
            "Louisiana - LA\n",
            "Maine - ME\n",
            "Maryland - MD\n",
            "Massachusetts - MA\n",
            "Michigan - MI\n",
            "Minnesota - MN\n",
            "Mississippi - MS\n",
            "Missouri - MO\n",
            "Montana - MT\n",
            "Nebraska - NE\n",
            "Nevada - NV\n",
            "New Hampshire - NH\n",
            "New Jersey - NJ\n",
            "New Mexico - NM\n",
            "New York - NY\n",
            "North Carolina - NC\n",
            "North Dakota - ND\n",
            "Ohio - OH\n",
            "Oklahoma - OK\n",
            "Oregon - OR\n",
            "Pennsylvania - PA\n",
            "Rhode Island - RI\n",
            "South Carolina - SC\n",
            "South Dakota - SD\n",
            "Tennessee - TN\n",
            "Texas - TX\n",
            "Utah - UT\n",
            "Vermont - VT\n",
            "Virginia - VA\n",
            "Washington - WA\n",
            "West Virginia - WV\n",
            "Wisconsin - WI\n",
            "Wyoming - WY\n"
          ]
        }
      ]
    },
    {
      "cell_type": "code",
      "source": [
        "for state in data['states']:\n",
        "  del state['area_codes']"
      ],
      "metadata": {
        "id": "XHHdb847M3kA"
      },
      "execution_count": 6,
      "outputs": []
    },
    {
      "cell_type": "code",
      "source": [
        "with open ('new_states.json', 'w') as f:\n",
        "  json.dump(data, f, indent=2) #dump: file\n",
        "  print(json.dumps(data, indent=4))"
      ],
      "metadata": {
        "colab": {
          "base_uri": "https://localhost:8080/"
        },
        "id": "K-7iA0VF-3eX",
        "outputId": "0566c73e-4043-40a4-9d7d-5226b1f18581"
      },
      "execution_count": 7,
      "outputs": [
        {
          "output_type": "stream",
          "name": "stdout",
          "text": [
            "{\n",
            "    \"states\": [\n",
            "        {\n",
            "            \"name\": \"Alabama\",\n",
            "            \"abbreviation\": \"AL\"\n",
            "        },\n",
            "        {\n",
            "            \"name\": \"Alaska\",\n",
            "            \"abbreviation\": \"AK\"\n",
            "        },\n",
            "        {\n",
            "            \"name\": \"Arizona\",\n",
            "            \"abbreviation\": \"AZ\"\n",
            "        },\n",
            "        {\n",
            "            \"name\": \"Arkansas\",\n",
            "            \"abbreviation\": \"AR\"\n",
            "        },\n",
            "        {\n",
            "            \"name\": \"California\",\n",
            "            \"abbreviation\": \"CA\"\n",
            "        },\n",
            "        {\n",
            "            \"name\": \"Colorado\",\n",
            "            \"abbreviation\": \"CO\"\n",
            "        },\n",
            "        {\n",
            "            \"name\": \"Connecticut\",\n",
            "            \"abbreviation\": \"CT\"\n",
            "        },\n",
            "        {\n",
            "            \"name\": \"Delaware\",\n",
            "            \"abbreviation\": \"DE\"\n",
            "        },\n",
            "        {\n",
            "            \"name\": \"Florida\",\n",
            "            \"abbreviation\": \"FL\"\n",
            "        },\n",
            "        {\n",
            "            \"name\": \"Georgia\",\n",
            "            \"abbreviation\": \"GA\"\n",
            "        },\n",
            "        {\n",
            "            \"name\": \"Hawaii\",\n",
            "            \"abbreviation\": \"HI\"\n",
            "        },\n",
            "        {\n",
            "            \"name\": \"Idaho\",\n",
            "            \"abbreviation\": \"ID\"\n",
            "        },\n",
            "        {\n",
            "            \"name\": \"Illinois\",\n",
            "            \"abbreviation\": \"IL\"\n",
            "        },\n",
            "        {\n",
            "            \"name\": \"Indiana\",\n",
            "            \"abbreviation\": \"IN\"\n",
            "        },\n",
            "        {\n",
            "            \"name\": \"Iowa\",\n",
            "            \"abbreviation\": \"IA\"\n",
            "        },\n",
            "        {\n",
            "            \"name\": \"Kansas\",\n",
            "            \"abbreviation\": \"KS\"\n",
            "        },\n",
            "        {\n",
            "            \"name\": \"Kentucky\",\n",
            "            \"abbreviation\": \"KY\"\n",
            "        },\n",
            "        {\n",
            "            \"name\": \"Louisiana\",\n",
            "            \"abbreviation\": \"LA\"\n",
            "        },\n",
            "        {\n",
            "            \"name\": \"Maine\",\n",
            "            \"abbreviation\": \"ME\"\n",
            "        },\n",
            "        {\n",
            "            \"name\": \"Maryland\",\n",
            "            \"abbreviation\": \"MD\"\n",
            "        },\n",
            "        {\n",
            "            \"name\": \"Massachusetts\",\n",
            "            \"abbreviation\": \"MA\"\n",
            "        },\n",
            "        {\n",
            "            \"name\": \"Michigan\",\n",
            "            \"abbreviation\": \"MI\"\n",
            "        },\n",
            "        {\n",
            "            \"name\": \"Minnesota\",\n",
            "            \"abbreviation\": \"MN\"\n",
            "        },\n",
            "        {\n",
            "            \"name\": \"Mississippi\",\n",
            "            \"abbreviation\": \"MS\"\n",
            "        },\n",
            "        {\n",
            "            \"name\": \"Missouri\",\n",
            "            \"abbreviation\": \"MO\"\n",
            "        },\n",
            "        {\n",
            "            \"name\": \"Montana\",\n",
            "            \"abbreviation\": \"MT\"\n",
            "        },\n",
            "        {\n",
            "            \"name\": \"Nebraska\",\n",
            "            \"abbreviation\": \"NE\"\n",
            "        },\n",
            "        {\n",
            "            \"name\": \"Nevada\",\n",
            "            \"abbreviation\": \"NV\"\n",
            "        },\n",
            "        {\n",
            "            \"name\": \"New Hampshire\",\n",
            "            \"abbreviation\": \"NH\"\n",
            "        },\n",
            "        {\n",
            "            \"name\": \"New Jersey\",\n",
            "            \"abbreviation\": \"NJ\"\n",
            "        },\n",
            "        {\n",
            "            \"name\": \"New Mexico\",\n",
            "            \"abbreviation\": \"NM\"\n",
            "        },\n",
            "        {\n",
            "            \"name\": \"New York\",\n",
            "            \"abbreviation\": \"NY\"\n",
            "        },\n",
            "        {\n",
            "            \"name\": \"North Carolina\",\n",
            "            \"abbreviation\": \"NC\"\n",
            "        },\n",
            "        {\n",
            "            \"name\": \"North Dakota\",\n",
            "            \"abbreviation\": \"ND\"\n",
            "        },\n",
            "        {\n",
            "            \"name\": \"Ohio\",\n",
            "            \"abbreviation\": \"OH\"\n",
            "        },\n",
            "        {\n",
            "            \"name\": \"Oklahoma\",\n",
            "            \"abbreviation\": \"OK\"\n",
            "        },\n",
            "        {\n",
            "            \"name\": \"Oregon\",\n",
            "            \"abbreviation\": \"OR\"\n",
            "        },\n",
            "        {\n",
            "            \"name\": \"Pennsylvania\",\n",
            "            \"abbreviation\": \"PA\"\n",
            "        },\n",
            "        {\n",
            "            \"name\": \"Rhode Island\",\n",
            "            \"abbreviation\": \"RI\"\n",
            "        },\n",
            "        {\n",
            "            \"name\": \"South Carolina\",\n",
            "            \"abbreviation\": \"SC\"\n",
            "        },\n",
            "        {\n",
            "            \"name\": \"South Dakota\",\n",
            "            \"abbreviation\": \"SD\"\n",
            "        },\n",
            "        {\n",
            "            \"name\": \"Tennessee\",\n",
            "            \"abbreviation\": \"TN\"\n",
            "        },\n",
            "        {\n",
            "            \"name\": \"Texas\",\n",
            "            \"abbreviation\": \"TX\"\n",
            "        },\n",
            "        {\n",
            "            \"name\": \"Utah\",\n",
            "            \"abbreviation\": \"UT\"\n",
            "        },\n",
            "        {\n",
            "            \"name\": \"Vermont\",\n",
            "            \"abbreviation\": \"VT\"\n",
            "        },\n",
            "        {\n",
            "            \"name\": \"Virginia\",\n",
            "            \"abbreviation\": \"VA\"\n",
            "        },\n",
            "        {\n",
            "            \"name\": \"Washington\",\n",
            "            \"abbreviation\": \"WA\"\n",
            "        },\n",
            "        {\n",
            "            \"name\": \"West Virginia\",\n",
            "            \"abbreviation\": \"WV\"\n",
            "        },\n",
            "        {\n",
            "            \"name\": \"Wisconsin\",\n",
            "            \"abbreviation\": \"WI\"\n",
            "        },\n",
            "        {\n",
            "            \"name\": \"Wyoming\",\n",
            "            \"abbreviation\": \"WY\"\n",
            "        }\n",
            "    ]\n",
            "}\n"
          ]
        }
      ]
    }
  ]
}