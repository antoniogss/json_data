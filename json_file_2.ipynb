{
  "nbformat": 4,
  "nbformat_minor": 0,
  "metadata": {
    "colab": {
      "provenance": [],
      "authorship_tag": "ABX9TyPQI6j31UERnLcNW4j8iM5O",
      "include_colab_link": true
    },
    "kernelspec": {
      "name": "python3",
      "display_name": "Python 3"
    },
    "language_info": {
      "name": "python"
    }
  },
  "cells": [
    {
      "cell_type": "markdown",
      "metadata": {
        "id": "view-in-github",
        "colab_type": "text"
      },
      "source": [
        "<a href=\"https://colab.research.google.com/github/antoniogss/json_data/blob/main/json_file_2.ipynb\" target=\"_parent\"><img src=\"https://colab.research.google.com/assets/colab-badge.svg\" alt=\"Open In Colab\"/></a>"
      ]
    },
    {
      "cell_type": "code",
      "execution_count": 169,
      "metadata": {
        "id": "g_9HPQ45Rvkb"
      },
      "outputs": [],
      "source": [
        "import json \n",
        "import requests as rq"
      ]
    },
    {
      "cell_type": "code",
      "source": [
        "url = 'https://api.nobelprize.org/v1/prize.json'\n",
        "data = rq.get(url).json()"
      ],
      "metadata": {
        "id": "iLL23pm0R3x7"
      },
      "execution_count": 170,
      "outputs": []
    },
    {
      "cell_type": "code",
      "source": [
        "# for k,v in data.items():\n",
        "#   print(json.dumps(data, indent=4)) #dumps: string"
      ],
      "metadata": {
        "id": "7Pvsu22ASI-Z"
      },
      "execution_count": 171,
      "outputs": []
    },
    {
      "cell_type": "code",
      "source": [
        "#keys of the dictionary\n",
        "\n",
        "data.keys()"
      ],
      "metadata": {
        "colab": {
          "base_uri": "https://localhost:8080/"
        },
        "id": "2Yqv2UGacnSX",
        "outputId": "1d710d77-247a-4f7c-c32c-cbaf36e11ba6"
      },
      "execution_count": 172,
      "outputs": [
        {
          "output_type": "execute_result",
          "data": {
            "text/plain": [
              "dict_keys(['prizes'])"
            ]
          },
          "metadata": {},
          "execution_count": 172
        }
      ]
    },
    {
      "cell_type": "code",
      "source": [
        "# Get first value of dictionary\n",
        "\n",
        "# first_value = list(data.items())[0][1]\n",
        "# print('First Value: ', first_value)"
      ],
      "metadata": {
        "id": "kCtCXYwzdBoE"
      },
      "execution_count": 173,
      "outputs": []
    },
    {
      "cell_type": "code",
      "source": [
        "type(data)"
      ],
      "metadata": {
        "colab": {
          "base_uri": "https://localhost:8080/"
        },
        "id": "msi2s6g3A_po",
        "outputId": "63a6e124-9ab8-413f-ffd5-2e822ce19298"
      },
      "execution_count": 174,
      "outputs": [
        {
          "output_type": "execute_result",
          "data": {
            "text/plain": [
              "dict"
            ]
          },
          "metadata": {},
          "execution_count": 174
        }
      ]
    },
    {
      "cell_type": "code",
      "source": [
        "type(data['prizes'])"
      ],
      "metadata": {
        "colab": {
          "base_uri": "https://localhost:8080/"
        },
        "id": "adtec3nhdAbd",
        "outputId": "82c5e8ee-affb-448d-e722-9725cdcf25d3"
      },
      "execution_count": 175,
      "outputs": [
        {
          "output_type": "execute_result",
          "data": {
            "text/plain": [
              "list"
            ]
          },
          "metadata": {},
          "execution_count": 175
        }
      ]
    },
    {
      "cell_type": "code",
      "source": [
        "# Get first value of the data['prizes'] list\n",
        "\n",
        "# data['prizes'][0]"
      ],
      "metadata": {
        "id": "7GpAybSCB2og"
      },
      "execution_count": 176,
      "outputs": []
    },
    {
      "cell_type": "code",
      "source": [
        "# Get last value of the data['prizes'] list\n",
        "\n",
        "# data['prizes'][-1:]"
      ],
      "metadata": {
        "id": "NX_lwl1FBNeD"
      },
      "execution_count": 177,
      "outputs": []
    },
    {
      "cell_type": "code",
      "source": [
        "# for i in data['prizes']:\n",
        "#     for key, value in i.items():\n",
        "#        print(value)"
      ],
      "metadata": {
        "id": "ERaNGCwlNxCV"
      },
      "execution_count": 178,
      "outputs": []
    },
    {
      "cell_type": "code",
      "source": [
        "# for i in data:\n",
        "#   for j in data[i]:\n",
        "#     print(j)"
      ],
      "metadata": {
        "id": "g90OuYX0Ri1w"
      },
      "execution_count": 179,
      "outputs": []
    },
    {
      "cell_type": "code",
      "source": [
        "category = 'chemistry'\n",
        "\n",
        "print('Nobel Prize Motivation List:'+\n",
        "      ' ' + category + '\\n\\n')\n",
        "\n",
        "for i in data['prizes']:\n",
        "       if i['category'] == category:\n",
        "          print('Year:',\n",
        "                i['year'],\n",
        "                '->',\n",
        "                i['laureates'][0]['motivation'],\n",
        "                '\\n'              \n",
        "                )      "
      ],
      "metadata": {
        "colab": {
          "base_uri": "https://localhost:8080/",
          "height": 1000
        },
        "id": "8WIrAiS_ZaKC",
        "outputId": "d18abb77-23b5-4622-f213-432ed97ce5a4"
      },
      "execution_count": 181,
      "outputs": [
        {
          "output_type": "stream",
          "name": "stdout",
          "text": [
            "Nobel Prize Motivation List: chemistry\n",
            "\n",
            "\n",
            "Year: 2021 -> \"for the development of asymmetric organocatalysis\" \n",
            "\n",
            "Year: 2020 -> \"for the development of a method for genome editing\" \n",
            "\n",
            "Year: 2019 -> \"for the development of lithium-ion batteries\" \n",
            "\n",
            "Year: 2018 -> \"for the directed evolution of enzymes\" \n",
            "\n",
            "Year: 2017 -> \"for developing cryo-electron microscopy for the high-resolution structure determination of biomolecules in solution\" \n",
            "\n",
            "Year: 2016 -> \"for the design and synthesis of molecular machines\" \n",
            "\n",
            "Year: 2015 -> \"for mechanistic studies of DNA repair\" \n",
            "\n",
            "Year: 2014 -> \"for the development of super-resolved fluorescence microscopy\" \n",
            "\n",
            "Year: 2013 -> \"for the development of multiscale models for complex chemical systems\" \n",
            "\n",
            "Year: 2012 -> \"for studies of G-protein-coupled receptors\" \n",
            "\n",
            "Year: 2011 -> \"for the discovery of quasicrystals\" \n",
            "\n",
            "Year: 2010 -> \"for palladium-catalyzed cross couplings in organic synthesis\" \n",
            "\n",
            "Year: 2009 -> \"for studies of the structure and function of the ribosome\" \n",
            "\n",
            "Year: 2008 -> \"for the discovery and development of the green fluorescent protein, GFP\" \n",
            "\n",
            "Year: 2007 -> \"for his studies of chemical processes on solid surfaces\" \n",
            "\n",
            "Year: 2006 -> \"for his studies of the molecular basis of eukaryotic transcription\" \n",
            "\n",
            "Year: 2005 -> \"for the development of the metathesis method in organic synthesis\" \n",
            "\n",
            "Year: 2004 -> \"for the discovery of ubiquitin-mediated protein degradation\" \n",
            "\n",
            "Year: 2003 -> \"for the discovery of water channels\" \n",
            "\n",
            "Year: 2002 -> \"for their development of soft desorption ionisation methods for mass spectrometric analyses of biological macromolecules\" \n",
            "\n",
            "Year: 2001 -> \"for their work on chirally catalysed hydrogenation reactions\" \n",
            "\n",
            "Year: 2000 -> \"for the discovery and development of conductive polymers\" \n",
            "\n",
            "Year: 1999 -> \"for his studies of the transition states of chemical reactions using femtosecond spectroscopy\" \n",
            "\n",
            "Year: 1998 -> \"for his development of the density-functional theory\" \n",
            "\n",
            "Year: 1997 -> \"for their elucidation of the enzymatic mechanism underlying the synthesis of adenosine triphosphate (ATP)\" \n",
            "\n",
            "Year: 1996 -> \"for their discovery of fullerenes\" \n",
            "\n",
            "Year: 1995 -> \"for their work in atmospheric chemistry, particularly concerning the formation and decomposition of ozone\" \n",
            "\n",
            "Year: 1994 -> \"for his contribution to carbocation chemistry\" \n",
            "\n",
            "Year: 1993 -> \"for his invention of the polymerase chain reaction (PCR) method\" \n",
            "\n",
            "Year: 1992 -> \"for his contributions to the theory of electron transfer reactions in chemical systems\" \n",
            "\n",
            "Year: 1991 -> \"for his contributions to the development of the methodology of high resolution nuclear magnetic resonance (NMR) spectroscopy\" \n",
            "\n",
            "Year: 1990 -> \"for his development of the theory and methodology of organic synthesis\" \n",
            "\n",
            "Year: 1989 -> \"for their discovery of catalytic properties of RNA\" \n",
            "\n",
            "Year: 1988 -> \"for the determination of the three-dimensional structure of a photosynthetic reaction centre\" \n",
            "\n",
            "Year: 1987 -> \"for their development and use of molecules with structure-specific interactions of high selectivity\" \n",
            "\n",
            "Year: 1986 -> \"for their contributions concerning the dynamics of chemical elementary processes\" \n",
            "\n",
            "Year: 1985 -> \"for their outstanding achievements in the development of direct methods for the determination of crystal structures\" \n",
            "\n",
            "Year: 1984 -> \"for his development of methodology for chemical synthesis on a solid matrix\" \n",
            "\n",
            "Year: 1983 -> \"for his work on the mechanisms of electron transfer reactions, especially in metal complexes\" \n",
            "\n",
            "Year: 1982 -> \"for his development of crystallographic electron microscopy and his structural elucidation of biologically important nucleic acid-protein complexes\" \n",
            "\n",
            "Year: 1981 -> \"for their theories, developed independently, concerning the course of chemical reactions\" \n",
            "\n",
            "Year: 1980 -> \"for his fundamental studies of the biochemistry of nucleic acids, with particular regard to recombinant-DNA\" \n",
            "\n",
            "Year: 1979 -> \"for their development of the use of boron- and phosphorus-containing compounds, respectively, into important reagents in organic synthesis\" \n",
            "\n",
            "Year: 1978 -> \"for his contribution to the understanding of biological energy transfer through the formulation of the chemiosmotic theory\" \n",
            "\n",
            "Year: 1977 -> \"for his contributions to non-equilibrium thermodynamics, particularly the theory of dissipative structures\" \n",
            "\n",
            "Year: 1976 -> \"for his studies on the structure of boranes illuminating problems of chemical bonding\" \n",
            "\n",
            "Year: 1975 -> \"for his work on the stereochemistry of enzyme-catalyzed reactions\" \n",
            "\n",
            "Year: 1974 -> \"for his fundamental achievements, both theoretical and experimental, in the physical chemistry of the macromolecules\" \n",
            "\n",
            "Year: 1973 -> \"for their pioneering work, performed independently, on the chemistry of the organometallic, so called sandwich compounds\" \n",
            "\n",
            "Year: 1972 -> \"for his work on ribonuclease, especially concerning the connection between the amino acid sequence and the biologically active conformation\" \n",
            "\n",
            "Year: 1971 -> \"for his contributions to the knowledge of electronic structure and geometry of molecules, particularly free radicals\" \n",
            "\n",
            "Year: 1970 -> \"for his discovery of sugar nucleotides and their role in the biosynthesis of carbohydrates\" \n",
            "\n",
            "Year: 1969 -> \"for their contributions to the development of the concept of conformation and its application in chemistry\" \n",
            "\n",
            "Year: 1968 -> \"for the discovery of the reciprocal relations bearing his name, which are fundamental for the thermodynamics of irreversible processes\" \n",
            "\n",
            "Year: 1967 -> \"for their studies of extremely fast chemical reactions, effected by disturbing the equilibrium by means of very short pulses of energy\" \n",
            "\n",
            "Year: 1966 -> \"for his fundamental work concerning chemical bonds and the electronic structure of molecules by the molecular orbital method\" \n",
            "\n",
            "Year: 1965 -> \"for his outstanding achievements in the art of organic synthesis\" \n",
            "\n",
            "Year: 1964 -> \"for her determinations by X-ray techniques of the structures of important biochemical substances\" \n",
            "\n",
            "Year: 1963 -> \"for their discoveries in the field of the chemistry and technology of high polymers\" \n",
            "\n",
            "Year: 1962 -> \"for their studies of the structures of globular proteins\" \n",
            "\n",
            "Year: 1961 -> \"for his research on the carbon dioxide assimilation in plants\" \n",
            "\n",
            "Year: 1960 -> \"for his method to use carbon-14 for age determination in archaeology, geology, geophysics, and other branches of science\" \n",
            "\n",
            "Year: 1959 -> \"for his discovery and development of the polarographic methods of analysis\" \n",
            "\n",
            "Year: 1958 -> \"for his work on the structure of proteins, especially that of insulin\" \n",
            "\n",
            "Year: 1957 -> \"for his work on nucleotides and nucleotide co-enzymes\" \n",
            "\n",
            "Year: 1956 -> \"for their researches into the mechanism of chemical reactions\" \n",
            "\n",
            "Year: 1955 -> \"for his work on biochemically important sulphur compounds, especially for the first synthesis of a polypeptide hormone\" \n",
            "\n",
            "Year: 1954 -> \"for his research into the nature of the chemical bond and its application to the elucidation of the structure of complex substances\" \n",
            "\n",
            "Year: 1953 -> \"for his discoveries in the field of macromolecular chemistry\" \n",
            "\n",
            "Year: 1952 -> \"for their invention of partition chromatography\" \n",
            "\n",
            "Year: 1951 -> \"for their discoveries in the chemistry of the transuranium elements\" \n",
            "\n",
            "Year: 1950 -> \"for their discovery and development of the diene synthesis\" \n",
            "\n",
            "Year: 1949 -> \"for his contributions in the field of chemical thermodynamics, particularly concerning the behaviour of substances at extremely low temperatures\" \n",
            "\n",
            "Year: 1948 -> \"for his research on electrophoresis and adsorption analysis, especially for his discoveries concerning the complex nature of the serum proteins\" \n",
            "\n",
            "Year: 1947 -> \"for his investigations on plant products of biological importance, especially the alkaloids\" \n",
            "\n",
            "Year: 1946 -> \"for his discovery that enzymes can be crystallized\" \n",
            "\n",
            "Year: 1945 -> \"for his research and inventions in agricultural and nutrition chemistry, especially for his fodder preservation method\" \n",
            "\n",
            "Year: 1944 -> \"for his discovery of the fission of heavy nuclei\" \n",
            "\n",
            "Year: 1943 -> \"for his work on the use of isotopes as tracers in the study of chemical processes\" \n",
            "\n"
          ]
        },
        {
          "output_type": "error",
          "ename": "KeyError",
          "evalue": "ignored",
          "traceback": [
            "\u001b[0;31m---------------------------------------------------------------------------\u001b[0m",
            "\u001b[0;31mKeyError\u001b[0m                                  Traceback (most recent call last)",
            "\u001b[0;32m<ipython-input-181-de0ed8619d9b>\u001b[0m in \u001b[0;36m<module>\u001b[0;34m\u001b[0m\n\u001b[1;32m      9\u001b[0m                 \u001b[0mi\u001b[0m\u001b[0;34m[\u001b[0m\u001b[0;34m'year'\u001b[0m\u001b[0;34m]\u001b[0m\u001b[0;34m,\u001b[0m\u001b[0;34m\u001b[0m\u001b[0;34m\u001b[0m\u001b[0m\n\u001b[1;32m     10\u001b[0m                 \u001b[0;34m'->'\u001b[0m\u001b[0;34m,\u001b[0m\u001b[0;34m\u001b[0m\u001b[0;34m\u001b[0m\u001b[0m\n\u001b[0;32m---> 11\u001b[0;31m                 \u001b[0mi\u001b[0m\u001b[0;34m[\u001b[0m\u001b[0;34m'laureates'\u001b[0m\u001b[0;34m]\u001b[0m\u001b[0;34m[\u001b[0m\u001b[0;36m0\u001b[0m\u001b[0;34m]\u001b[0m\u001b[0;34m[\u001b[0m\u001b[0;34m'motivation'\u001b[0m\u001b[0;34m]\u001b[0m\u001b[0;34m,\u001b[0m\u001b[0;34m\u001b[0m\u001b[0;34m\u001b[0m\u001b[0m\n\u001b[0m\u001b[1;32m     12\u001b[0m                 \u001b[0;34m'\\n'\u001b[0m\u001b[0;34m\u001b[0m\u001b[0;34m\u001b[0m\u001b[0m\n\u001b[1;32m     13\u001b[0m                 )      \n",
            "\u001b[0;31mKeyError\u001b[0m: 'laureates'"
          ]
        }
      ]
    }
  ]
}