{
  "nbformat": 4,
  "nbformat_minor": 0,
  "metadata": {
    "colab": {
      "provenance": [],
      "authorship_tag": "ABX9TyNNOcqwwBnwilpEoz8ddKtg",
      "include_colab_link": true
    },
    "kernelspec": {
      "name": "python3",
      "display_name": "Python 3"
    },
    "language_info": {
      "name": "python"
    }
  },
  "cells": [
    {
      "cell_type": "markdown",
      "metadata": {
        "id": "view-in-github",
        "colab_type": "text"
      },
      "source": [
        "<a href=\"https://colab.research.google.com/github/antoniogss/json_data/blob/main/json_file_2.ipynb\" target=\"_parent\"><img src=\"https://colab.research.google.com/assets/colab-badge.svg\" alt=\"Open In Colab\"/></a>"
      ]
    },
    {
      "cell_type": "code",
      "execution_count": 117,
      "metadata": {
        "id": "g_9HPQ45Rvkb"
      },
      "outputs": [],
      "source": [
        "import json \n",
        "import requests as rq"
      ]
    },
    {
      "cell_type": "code",
      "source": [
        "url = 'https://api.nobelprize.org/v1/prize.json'\n",
        "data = rq.get(url).json()"
      ],
      "metadata": {
        "id": "iLL23pm0R3x7"
      },
      "execution_count": 118,
      "outputs": []
    },
    {
      "cell_type": "code",
      "source": [
        "# for k,v in data.items():\n",
        "#   print(json.dumps(data, indent=4)) #dumps: string"
      ],
      "metadata": {
        "id": "7Pvsu22ASI-Z"
      },
      "execution_count": null,
      "outputs": []
    },
    {
      "cell_type": "code",
      "source": [
        "#keys of the dictionary\n",
        "\n",
        "data.keys()"
      ],
      "metadata": {
        "colab": {
          "base_uri": "https://localhost:8080/"
        },
        "id": "2Yqv2UGacnSX",
        "outputId": "0d025a34-26fa-4aaf-de50-ee763599953b"
      },
      "execution_count": 120,
      "outputs": [
        {
          "output_type": "execute_result",
          "data": {
            "text/plain": [
              "dict_keys(['prizes'])"
            ]
          },
          "metadata": {},
          "execution_count": 120
        }
      ]
    },
    {
      "cell_type": "code",
      "source": [
        "# Get first value of dictionary\n",
        "\n",
        "# first_value = list(data.items())[0][1]\n",
        "# print('First Value: ', first_value)"
      ],
      "metadata": {
        "id": "kCtCXYwzdBoE"
      },
      "execution_count": 121,
      "outputs": []
    },
    {
      "cell_type": "code",
      "source": [
        "type(data)"
      ],
      "metadata": {
        "colab": {
          "base_uri": "https://localhost:8080/"
        },
        "id": "msi2s6g3A_po",
        "outputId": "b630b0e2-1e55-43f4-cbb1-ba39a5357cef"
      },
      "execution_count": 122,
      "outputs": [
        {
          "output_type": "execute_result",
          "data": {
            "text/plain": [
              "dict"
            ]
          },
          "metadata": {},
          "execution_count": 122
        }
      ]
    },
    {
      "cell_type": "code",
      "source": [
        "type(data['prizes'])"
      ],
      "metadata": {
        "colab": {
          "base_uri": "https://localhost:8080/"
        },
        "id": "adtec3nhdAbd",
        "outputId": "c09079ec-7c2b-4a90-90a2-93c5abf9f3df"
      },
      "execution_count": 123,
      "outputs": [
        {
          "output_type": "execute_result",
          "data": {
            "text/plain": [
              "list"
            ]
          },
          "metadata": {},
          "execution_count": 123
        }
      ]
    },
    {
      "cell_type": "code",
      "source": [
        "# Get first value of the data['prizes'] list\n",
        "\n",
        "# data['prizes'][0]"
      ],
      "metadata": {
        "id": "7GpAybSCB2og"
      },
      "execution_count": 124,
      "outputs": []
    },
    {
      "cell_type": "code",
      "source": [
        "# Get last value of the data['prizes'] list\n",
        "\n",
        "# data['prizes'][-1:]"
      ],
      "metadata": {
        "id": "NX_lwl1FBNeD"
      },
      "execution_count": 125,
      "outputs": []
    },
    {
      "cell_type": "code",
      "source": [
        "# for i in data['prizes']:\n",
        "#     for key, value in i.items():\n",
        "#        print(value)"
      ],
      "metadata": {
        "id": "ERaNGCwlNxCV"
      },
      "execution_count": 126,
      "outputs": []
    },
    {
      "cell_type": "code",
      "source": [
        "# for i in data:\n",
        "#   for j in data[i]:\n",
        "#     print(j)"
      ],
      "metadata": {
        "id": "g90OuYX0Ri1w"
      },
      "execution_count": 127,
      "outputs": []
    },
    {
      "cell_type": "code",
      "source": [
        "category = 'chemistry'\n",
        "\n",
        "for i in data['prizes']:\n",
        "       if i['category'] == category:\n",
        "          print('Year:',\n",
        "                i['year'],\n",
        "                '->',\n",
        "                'Category:',\n",
        "                i['category'],\n",
        "                '->',\n",
        "                'Motivation:',\n",
        "                i['laureates'][0]['motivation'],\n",
        "                '\\n'              \n",
        "                )      "
      ],
      "metadata": {
        "colab": {
          "base_uri": "https://localhost:8080/",
          "height": 1000
        },
        "id": "8WIrAiS_ZaKC",
        "outputId": "73691ebd-398a-4ae9-8772-c9123197e8b1"
      },
      "execution_count": 154,
      "outputs": [
        {
          "output_type": "stream",
          "name": "stdout",
          "text": [
            "Year: 2021 -> Category: chemistry -> Motivation: \"for the development of asymmetric organocatalysis\" \n",
            "\n",
            "Year: 2020 -> Category: chemistry -> Motivation: \"for the development of a method for genome editing\" \n",
            "\n",
            "Year: 2019 -> Category: chemistry -> Motivation: \"for the development of lithium-ion batteries\" \n",
            "\n",
            "Year: 2018 -> Category: chemistry -> Motivation: \"for the directed evolution of enzymes\" \n",
            "\n",
            "Year: 2017 -> Category: chemistry -> Motivation: \"for developing cryo-electron microscopy for the high-resolution structure determination of biomolecules in solution\" \n",
            "\n",
            "Year: 2016 -> Category: chemistry -> Motivation: \"for the design and synthesis of molecular machines\" \n",
            "\n",
            "Year: 2015 -> Category: chemistry -> Motivation: \"for mechanistic studies of DNA repair\" \n",
            "\n",
            "Year: 2014 -> Category: chemistry -> Motivation: \"for the development of super-resolved fluorescence microscopy\" \n",
            "\n",
            "Year: 2013 -> Category: chemistry -> Motivation: \"for the development of multiscale models for complex chemical systems\" \n",
            "\n",
            "Year: 2012 -> Category: chemistry -> Motivation: \"for studies of G-protein-coupled receptors\" \n",
            "\n",
            "Year: 2011 -> Category: chemistry -> Motivation: \"for the discovery of quasicrystals\" \n",
            "\n",
            "Year: 2010 -> Category: chemistry -> Motivation: \"for palladium-catalyzed cross couplings in organic synthesis\" \n",
            "\n",
            "Year: 2009 -> Category: chemistry -> Motivation: \"for studies of the structure and function of the ribosome\" \n",
            "\n",
            "Year: 2008 -> Category: chemistry -> Motivation: \"for the discovery and development of the green fluorescent protein, GFP\" \n",
            "\n",
            "Year: 2007 -> Category: chemistry -> Motivation: \"for his studies of chemical processes on solid surfaces\" \n",
            "\n",
            "Year: 2006 -> Category: chemistry -> Motivation: \"for his studies of the molecular basis of eukaryotic transcription\" \n",
            "\n",
            "Year: 2005 -> Category: chemistry -> Motivation: \"for the development of the metathesis method in organic synthesis\" \n",
            "\n",
            "Year: 2004 -> Category: chemistry -> Motivation: \"for the discovery of ubiquitin-mediated protein degradation\" \n",
            "\n",
            "Year: 2003 -> Category: chemistry -> Motivation: \"for the discovery of water channels\" \n",
            "\n",
            "Year: 2002 -> Category: chemistry -> Motivation: \"for their development of soft desorption ionisation methods for mass spectrometric analyses of biological macromolecules\" \n",
            "\n",
            "Year: 2001 -> Category: chemistry -> Motivation: \"for their work on chirally catalysed hydrogenation reactions\" \n",
            "\n",
            "Year: 2000 -> Category: chemistry -> Motivation: \"for the discovery and development of conductive polymers\" \n",
            "\n",
            "Year: 1999 -> Category: chemistry -> Motivation: \"for his studies of the transition states of chemical reactions using femtosecond spectroscopy\" \n",
            "\n",
            "Year: 1998 -> Category: chemistry -> Motivation: \"for his development of the density-functional theory\" \n",
            "\n",
            "Year: 1997 -> Category: chemistry -> Motivation: \"for their elucidation of the enzymatic mechanism underlying the synthesis of adenosine triphosphate (ATP)\" \n",
            "\n",
            "Year: 1996 -> Category: chemistry -> Motivation: \"for their discovery of fullerenes\" \n",
            "\n",
            "Year: 1995 -> Category: chemistry -> Motivation: \"for their work in atmospheric chemistry, particularly concerning the formation and decomposition of ozone\" \n",
            "\n",
            "Year: 1994 -> Category: chemistry -> Motivation: \"for his contribution to carbocation chemistry\" \n",
            "\n",
            "Year: 1993 -> Category: chemistry -> Motivation: \"for his invention of the polymerase chain reaction (PCR) method\" \n",
            "\n",
            "Year: 1992 -> Category: chemistry -> Motivation: \"for his contributions to the theory of electron transfer reactions in chemical systems\" \n",
            "\n",
            "Year: 1991 -> Category: chemistry -> Motivation: \"for his contributions to the development of the methodology of high resolution nuclear magnetic resonance (NMR) spectroscopy\" \n",
            "\n",
            "Year: 1990 -> Category: chemistry -> Motivation: \"for his development of the theory and methodology of organic synthesis\" \n",
            "\n",
            "Year: 1989 -> Category: chemistry -> Motivation: \"for their discovery of catalytic properties of RNA\" \n",
            "\n",
            "Year: 1988 -> Category: chemistry -> Motivation: \"for the determination of the three-dimensional structure of a photosynthetic reaction centre\" \n",
            "\n",
            "Year: 1987 -> Category: chemistry -> Motivation: \"for their development and use of molecules with structure-specific interactions of high selectivity\" \n",
            "\n",
            "Year: 1986 -> Category: chemistry -> Motivation: \"for their contributions concerning the dynamics of chemical elementary processes\" \n",
            "\n",
            "Year: 1985 -> Category: chemistry -> Motivation: \"for their outstanding achievements in the development of direct methods for the determination of crystal structures\" \n",
            "\n",
            "Year: 1984 -> Category: chemistry -> Motivation: \"for his development of methodology for chemical synthesis on a solid matrix\" \n",
            "\n",
            "Year: 1983 -> Category: chemistry -> Motivation: \"for his work on the mechanisms of electron transfer reactions, especially in metal complexes\" \n",
            "\n",
            "Year: 1982 -> Category: chemistry -> Motivation: \"for his development of crystallographic electron microscopy and his structural elucidation of biologically important nucleic acid-protein complexes\" \n",
            "\n",
            "Year: 1981 -> Category: chemistry -> Motivation: \"for their theories, developed independently, concerning the course of chemical reactions\" \n",
            "\n",
            "Year: 1980 -> Category: chemistry -> Motivation: \"for his fundamental studies of the biochemistry of nucleic acids, with particular regard to recombinant-DNA\" \n",
            "\n",
            "Year: 1979 -> Category: chemistry -> Motivation: \"for their development of the use of boron- and phosphorus-containing compounds, respectively, into important reagents in organic synthesis\" \n",
            "\n",
            "Year: 1978 -> Category: chemistry -> Motivation: \"for his contribution to the understanding of biological energy transfer through the formulation of the chemiosmotic theory\" \n",
            "\n",
            "Year: 1977 -> Category: chemistry -> Motivation: \"for his contributions to non-equilibrium thermodynamics, particularly the theory of dissipative structures\" \n",
            "\n",
            "Year: 1976 -> Category: chemistry -> Motivation: \"for his studies on the structure of boranes illuminating problems of chemical bonding\" \n",
            "\n",
            "Year: 1975 -> Category: chemistry -> Motivation: \"for his work on the stereochemistry of enzyme-catalyzed reactions\" \n",
            "\n",
            "Year: 1974 -> Category: chemistry -> Motivation: \"for his fundamental achievements, both theoretical and experimental, in the physical chemistry of the macromolecules\" \n",
            "\n",
            "Year: 1973 -> Category: chemistry -> Motivation: \"for their pioneering work, performed independently, on the chemistry of the organometallic, so called sandwich compounds\" \n",
            "\n",
            "Year: 1972 -> Category: chemistry -> Motivation: \"for his work on ribonuclease, especially concerning the connection between the amino acid sequence and the biologically active conformation\" \n",
            "\n",
            "Year: 1971 -> Category: chemistry -> Motivation: \"for his contributions to the knowledge of electronic structure and geometry of molecules, particularly free radicals\" \n",
            "\n",
            "Year: 1970 -> Category: chemistry -> Motivation: \"for his discovery of sugar nucleotides and their role in the biosynthesis of carbohydrates\" \n",
            "\n",
            "Year: 1969 -> Category: chemistry -> Motivation: \"for their contributions to the development of the concept of conformation and its application in chemistry\" \n",
            "\n",
            "Year: 1968 -> Category: chemistry -> Motivation: \"for the discovery of the reciprocal relations bearing his name, which are fundamental for the thermodynamics of irreversible processes\" \n",
            "\n",
            "Year: 1967 -> Category: chemistry -> Motivation: \"for their studies of extremely fast chemical reactions, effected by disturbing the equilibrium by means of very short pulses of energy\" \n",
            "\n",
            "Year: 1966 -> Category: chemistry -> Motivation: \"for his fundamental work concerning chemical bonds and the electronic structure of molecules by the molecular orbital method\" \n",
            "\n",
            "Year: 1965 -> Category: chemistry -> Motivation: \"for his outstanding achievements in the art of organic synthesis\" \n",
            "\n",
            "Year: 1964 -> Category: chemistry -> Motivation: \"for her determinations by X-ray techniques of the structures of important biochemical substances\" \n",
            "\n",
            "Year: 1963 -> Category: chemistry -> Motivation: \"for their discoveries in the field of the chemistry and technology of high polymers\" \n",
            "\n",
            "Year: 1962 -> Category: chemistry -> Motivation: \"for their studies of the structures of globular proteins\" \n",
            "\n",
            "Year: 1961 -> Category: chemistry -> Motivation: \"for his research on the carbon dioxide assimilation in plants\" \n",
            "\n",
            "Year: 1960 -> Category: chemistry -> Motivation: \"for his method to use carbon-14 for age determination in archaeology, geology, geophysics, and other branches of science\" \n",
            "\n",
            "Year: 1959 -> Category: chemistry -> Motivation: \"for his discovery and development of the polarographic methods of analysis\" \n",
            "\n",
            "Year: 1958 -> Category: chemistry -> Motivation: \"for his work on the structure of proteins, especially that of insulin\" \n",
            "\n",
            "Year: 1957 -> Category: chemistry -> Motivation: \"for his work on nucleotides and nucleotide co-enzymes\" \n",
            "\n",
            "Year: 1956 -> Category: chemistry -> Motivation: \"for their researches into the mechanism of chemical reactions\" \n",
            "\n",
            "Year: 1955 -> Category: chemistry -> Motivation: \"for his work on biochemically important sulphur compounds, especially for the first synthesis of a polypeptide hormone\" \n",
            "\n",
            "Year: 1954 -> Category: chemistry -> Motivation: \"for his research into the nature of the chemical bond and its application to the elucidation of the structure of complex substances\" \n",
            "\n",
            "Year: 1953 -> Category: chemistry -> Motivation: \"for his discoveries in the field of macromolecular chemistry\" \n",
            "\n",
            "Year: 1952 -> Category: chemistry -> Motivation: \"for their invention of partition chromatography\" \n",
            "\n",
            "Year: 1951 -> Category: chemistry -> Motivation: \"for their discoveries in the chemistry of the transuranium elements\" \n",
            "\n",
            "Year: 1950 -> Category: chemistry -> Motivation: \"for their discovery and development of the diene synthesis\" \n",
            "\n",
            "Year: 1949 -> Category: chemistry -> Motivation: \"for his contributions in the field of chemical thermodynamics, particularly concerning the behaviour of substances at extremely low temperatures\" \n",
            "\n",
            "Year: 1948 -> Category: chemistry -> Motivation: \"for his research on electrophoresis and adsorption analysis, especially for his discoveries concerning the complex nature of the serum proteins\" \n",
            "\n",
            "Year: 1947 -> Category: chemistry -> Motivation: \"for his investigations on plant products of biological importance, especially the alkaloids\" \n",
            "\n",
            "Year: 1946 -> Category: chemistry -> Motivation: \"for his discovery that enzymes can be crystallized\" \n",
            "\n",
            "Year: 1945 -> Category: chemistry -> Motivation: \"for his research and inventions in agricultural and nutrition chemistry, especially for his fodder preservation method\" \n",
            "\n",
            "Year: 1944 -> Category: chemistry -> Motivation: \"for his discovery of the fission of heavy nuclei\" \n",
            "\n",
            "Year: 1943 -> Category: chemistry -> Motivation: \"for his work on the use of isotopes as tracers in the study of chemical processes\" \n",
            "\n"
          ]
        },
        {
          "output_type": "error",
          "ename": "KeyError",
          "evalue": "ignored",
          "traceback": [
            "\u001b[0;31m---------------------------------------------------------------------------\u001b[0m",
            "\u001b[0;31mKeyError\u001b[0m                                  Traceback (most recent call last)",
            "\u001b[0;32m<ipython-input-154-2d4b69dc2029>\u001b[0m in \u001b[0;36m<module>\u001b[0;34m\u001b[0m\n\u001b[1;32m     10\u001b[0m                 \u001b[0;34m'->'\u001b[0m\u001b[0;34m,\u001b[0m\u001b[0;34m\u001b[0m\u001b[0;34m\u001b[0m\u001b[0m\n\u001b[1;32m     11\u001b[0m                 \u001b[0;34m'Motivation:'\u001b[0m\u001b[0;34m,\u001b[0m\u001b[0;34m\u001b[0m\u001b[0;34m\u001b[0m\u001b[0m\n\u001b[0;32m---> 12\u001b[0;31m                 \u001b[0mi\u001b[0m\u001b[0;34m[\u001b[0m\u001b[0;34m'laureates'\u001b[0m\u001b[0;34m]\u001b[0m\u001b[0;34m[\u001b[0m\u001b[0;36m0\u001b[0m\u001b[0;34m]\u001b[0m\u001b[0;34m[\u001b[0m\u001b[0;34m'motivation'\u001b[0m\u001b[0;34m]\u001b[0m\u001b[0;34m,\u001b[0m\u001b[0;34m\u001b[0m\u001b[0;34m\u001b[0m\u001b[0m\n\u001b[0m\u001b[1;32m     13\u001b[0m                 \u001b[0;34m'\\n'\u001b[0m\u001b[0;34m\u001b[0m\u001b[0;34m\u001b[0m\u001b[0m\n\u001b[1;32m     14\u001b[0m                 )      \n",
            "\u001b[0;31mKeyError\u001b[0m: 'laureates'"
          ]
        }
      ]
    }
  ]
}